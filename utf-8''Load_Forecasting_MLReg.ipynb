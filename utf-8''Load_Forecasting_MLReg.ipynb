{
  "cells": [
    {
      "metadata": {
        "trusted": true
      },
      "cell_type": "code",
      "source": "import numpy as np # For vector operation\nimport pandas as pd # For Data manipulation\nimport matplotlib.pyplot as plt # For plotting\nimport seaborn as sns #For data visualization\nfrom scipy import stats\nimport missingno as msng  #install statsmodels before import.\nfrom factor_analyzer import FactorAnalyzer\nfrom sklearn.impute import KNNImputer",
      "execution_count": 1,
      "outputs": []
    },
    {
      "metadata": {
        "trusted": true
      },
      "cell_type": "code",
      "source": "!pip install -U scikit-learn",
      "execution_count": 2,
      "outputs": [
        {
          "output_type": "stream",
          "text": "Collecting scikit-learn\n\u001b[?25l  Downloading https://files.pythonhosted.org/packages/d1/48/e9fa9e252abcd1447eff6f9257636af31758a6e46fd5ce5d3c879f6907cb/scikit_learn-0.22.1-cp36-cp36m-manylinux1_x86_64.whl (7.0MB)\n\u001b[K     |████████████████████████████████| 7.1MB 37kB/s  eta 0:00:01�████▊                       | 1.9MB 2.2MB/s eta 0:00:03\n\u001b[?25hRequirement already satisfied, skipping upgrade: numpy>=1.11.0 in /home/nbuser/anaconda3_501/lib/python3.6/site-packages (from scikit-learn) (1.16.2)\nRequirement already satisfied, skipping upgrade: joblib>=0.11 in /home/nbuser/anaconda3_501/lib/python3.6/site-packages (from scikit-learn) (0.14.0)\nRequirement already satisfied, skipping upgrade: scipy>=0.17.0 in /home/nbuser/anaconda3_501/lib/python3.6/site-packages (from scikit-learn) (1.1.0)\n\u001b[31mERROR: azureml-train-automl 1.0.72 has requirement onnxmltools==1.4.1, but you'll have onnxmltools 1.6.0 which is incompatible.\u001b[0m\n\u001b[31mERROR: azureml-train-automl 1.0.72 has requirement scikit-learn<=0.20.3,>=0.19.0, but you'll have scikit-learn 0.22.1 which is incompatible.\u001b[0m\n\u001b[31mERROR: azureml-automl-core 1.0.72.1 has requirement onnxmltools==1.4.1, but you'll have onnxmltools 1.6.0 which is incompatible.\u001b[0m\n\u001b[31mERROR: azureml-automl-core 1.0.72.1 has requirement scikit-learn<=0.20.3,>=0.19.0, but you'll have scikit-learn 0.22.1 which is incompatible.\u001b[0m\nInstalling collected packages: scikit-learn\n  Found existing installation: scikit-learn 0.20.3\n    Uninstalling scikit-learn-0.20.3:\n      Successfully uninstalled scikit-learn-0.20.3\nSuccessfully installed scikit-learn-0.22.1\n\u001b[33mWARNING: You are using pip version 19.3.1; however, version 20.0.2 is available.\nYou should consider upgrading via the 'pip install --upgrade pip' command.\u001b[0m\n",
          "name": "stdout"
        }
      ]
    },
    {
      "metadata": {
        "trusted": true
      },
      "cell_type": "code",
      "source": "!pip install factor_analyzer",
      "execution_count": 4,
      "outputs": [
        {
          "output_type": "stream",
          "text": "Collecting factor_analyzer\n\u001b[?25l  Downloading https://files.pythonhosted.org/packages/44/b5/cbd83484ca6dd4c6562c6d66a6a3a0ecf526e79b2b575b9fb4bf5ad172dd/factor_analyzer-0.3.2.tar.gz (40kB)\n\u001b[K     |████████████████████████████████| 40kB 332kB/s eta 0:00:011\n\u001b[?25hRequirement already satisfied: pandas in /home/nbuser/anaconda3_501/lib/python3.6/site-packages (from factor_analyzer) (0.23.4)\nRequirement already satisfied: scipy in /home/nbuser/anaconda3_501/lib/python3.6/site-packages (from factor_analyzer) (1.1.0)\nRequirement already satisfied: numpy in /home/nbuser/anaconda3_501/lib/python3.6/site-packages (from factor_analyzer) (1.16.2)\nRequirement already satisfied: scikit-learn in /home/nbuser/anaconda3_501/lib/python3.6/site-packages (from factor_analyzer) (0.22.1)\nRequirement already satisfied: pytz>=2011k in /home/nbuser/anaconda3_501/lib/python3.6/site-packages (from pandas->factor_analyzer) (2019.3)\nRequirement already satisfied: python-dateutil>=2.5.0 in /home/nbuser/anaconda3_501/lib/python3.6/site-packages (from pandas->factor_analyzer) (2.8.1)\nRequirement already satisfied: joblib>=0.11 in /home/nbuser/anaconda3_501/lib/python3.6/site-packages (from scikit-learn->factor_analyzer) (0.14.0)\nRequirement already satisfied: six>=1.5 in /home/nbuser/anaconda3_501/lib/python3.6/site-packages (from python-dateutil>=2.5.0->pandas->factor_analyzer) (1.11.0)\nBuilding wheels for collected packages: factor-analyzer\n  Building wheel for factor-analyzer (setup.py) ... \u001b[?25ldone\n\u001b[?25h  Created wheel for factor-analyzer: filename=factor_analyzer-0.3.2-cp36-none-any.whl size=37451 sha256=1d661ad2d70d6fde41a0d0c94ddbc794c8c8b795a4d9e5a8bda64dc664f010e4\n  Stored in directory: /home/nbuser/.cache/pip/wheels/4a/d0/57/f1330cb9c80e82d8d05391c74c94ed61ce3f03bf6157f3d6db\nSuccessfully built factor-analyzer\nInstalling collected packages: factor-analyzer\nSuccessfully installed factor-analyzer-0.3.2\n\u001b[33mWARNING: You are using pip version 19.3.1; however, version 20.0.2 is available.\nYou should consider upgrading via the 'pip install --upgrade pip' command.\u001b[0m\n",
          "name": "stdout"
        }
      ]
    },
    {
      "metadata": {
        "trusted": true
      },
      "cell_type": "code",
      "source": "!pip install missingno",
      "execution_count": 6,
      "outputs": [
        {
          "output_type": "stream",
          "text": "Collecting missingno\n  Downloading https://files.pythonhosted.org/packages/2b/de/6e4dd6d720c49939544352155dc06a08c9f7e4271aa631a559dfbeaaf9d4/missingno-0.4.2-py3-none-any.whl\nRequirement already satisfied: numpy in /home/nbuser/anaconda3_501/lib/python3.6/site-packages (from missingno) (1.16.2)\nRequirement already satisfied: scipy in /home/nbuser/anaconda3_501/lib/python3.6/site-packages (from missingno) (1.1.0)\nRequirement already satisfied: matplotlib in /home/nbuser/anaconda3_501/lib/python3.6/site-packages (from missingno) (3.0.0)\nRequirement already satisfied: seaborn in /home/nbuser/anaconda3_501/lib/python3.6/site-packages (from missingno) (0.9.0)\nRequirement already satisfied: cycler>=0.10 in /home/nbuser/anaconda3_501/lib/python3.6/site-packages (from matplotlib->missingno) (0.10.0)\nRequirement already satisfied: kiwisolver>=1.0.1 in /home/nbuser/anaconda3_501/lib/python3.6/site-packages (from matplotlib->missingno) (1.0.1)\nRequirement already satisfied: pyparsing!=2.0.4,!=2.1.2,!=2.1.6,>=2.0.1 in /home/nbuser/anaconda3_501/lib/python3.6/site-packages (from matplotlib->missingno) (2.3.0)\nRequirement already satisfied: python-dateutil>=2.1 in /home/nbuser/anaconda3_501/lib/python3.6/site-packages (from matplotlib->missingno) (2.8.1)\nRequirement already satisfied: pandas>=0.15.2 in /home/nbuser/anaconda3_501/lib/python3.6/site-packages (from seaborn->missingno) (0.23.4)\nRequirement already satisfied: six in /home/nbuser/anaconda3_501/lib/python3.6/site-packages (from cycler>=0.10->matplotlib->missingno) (1.11.0)\nRequirement already satisfied: setuptools in /home/nbuser/anaconda3_501/lib/python3.6/site-packages (from kiwisolver>=1.0.1->matplotlib->missingno) (41.6.0)\nRequirement already satisfied: pytz>=2011k in /home/nbuser/anaconda3_501/lib/python3.6/site-packages (from pandas>=0.15.2->seaborn->missingno) (2019.3)\nInstalling collected packages: missingno\nSuccessfully installed missingno-0.4.2\n\u001b[33mWARNING: You are using pip version 19.3.1; however, version 20.0.2 is available.\nYou should consider upgrading via the 'pip install --upgrade pip' command.\u001b[0m\n",
          "name": "stdout"
        }
      ]
    },
    {
      "metadata": {
        "trusted": true
      },
      "cell_type": "code",
      "source": "dataset=pd.read_csv(\"loaddata_multiple_regression.csv\")\ndataset.head(2)",
      "execution_count": 9,
      "outputs": [
        {
          "output_type": "execute_result",
          "execution_count": 9,
          "data": {
            "text/html": "<div>\n<style scoped>\n    .dataframe tbody tr th:only-of-type {\n        vertical-align: middle;\n    }\n\n    .dataframe tbody tr th {\n        vertical-align: top;\n    }\n\n    .dataframe thead th {\n        text-align: right;\n    }\n</style>\n<table border=\"1\" class=\"dataframe\">\n  <thead>\n    <tr style=\"text-align: right;\">\n      <th></th>\n      <th>T-1</th>\n      <th>T-2</th>\n      <th>T-3</th>\n      <th>T-24</th>\n      <th>T</th>\n    </tr>\n  </thead>\n  <tbody>\n    <tr>\n      <th>0</th>\n      <td>5502.25224</td>\n      <td>6350.08356</td>\n      <td>6515.78400</td>\n      <td>5551.82208</td>\n      <td>4931.26380</td>\n    </tr>\n    <tr>\n      <th>1</th>\n      <td>4931.26380</td>\n      <td>5502.25224</td>\n      <td>6350.08356</td>\n      <td>4983.17184</td>\n      <td>4775.53968</td>\n    </tr>\n  </tbody>\n</table>\n</div>",
            "text/plain": "          T-1         T-2         T-3        T-24           T\n0  5502.25224  6350.08356  6515.78400  5551.82208  4931.26380\n1  4931.26380  5502.25224  6350.08356  4983.17184  4775.53968"
          },
          "metadata": {}
        }
      ]
    },
    {
      "metadata": {
        "trusted": true
      },
      "cell_type": "code",
      "source": "dataset.describe()",
      "execution_count": 10,
      "outputs": [
        {
          "output_type": "execute_result",
          "execution_count": 10,
          "data": {
            "text/html": "<div>\n<style scoped>\n    .dataframe tbody tr th:only-of-type {\n        vertical-align: middle;\n    }\n\n    .dataframe tbody tr th {\n        vertical-align: top;\n    }\n\n    .dataframe thead th {\n        text-align: right;\n    }\n</style>\n<table border=\"1\" class=\"dataframe\">\n  <thead>\n    <tr style=\"text-align: right;\">\n      <th></th>\n      <th>T-1</th>\n      <th>T-2</th>\n      <th>T-3</th>\n      <th>T-24</th>\n      <th>T</th>\n    </tr>\n  </thead>\n  <tbody>\n    <tr>\n      <th>count</th>\n      <td>2160.000000</td>\n      <td>2160.000000</td>\n      <td>2160.000000</td>\n      <td>2160.000000</td>\n      <td>2160.000000</td>\n    </tr>\n    <tr>\n      <th>mean</th>\n      <td>6027.633628</td>\n      <td>6028.189095</td>\n      <td>6029.018795</td>\n      <td>6036.917148</td>\n      <td>6028.298499</td>\n    </tr>\n    <tr>\n      <th>std</th>\n      <td>1068.188422</td>\n      <td>1068.043922</td>\n      <td>1067.726081</td>\n      <td>1066.466517</td>\n      <td>1068.308193</td>\n    </tr>\n    <tr>\n      <th>min</th>\n      <td>3377.919600</td>\n      <td>3377.919600</td>\n      <td>3377.919600</td>\n      <td>3377.919600</td>\n      <td>3377.919600</td>\n    </tr>\n    <tr>\n      <th>25%</th>\n      <td>5260.014720</td>\n      <td>5260.014720</td>\n      <td>5260.014720</td>\n      <td>5263.054380</td>\n      <td>5260.014720</td>\n    </tr>\n    <tr>\n      <th>50%</th>\n      <td>5933.104560</td>\n      <td>5934.663360</td>\n      <td>5935.910400</td>\n      <td>5949.939600</td>\n      <td>5934.663360</td>\n    </tr>\n    <tr>\n      <th>75%</th>\n      <td>6738.692400</td>\n      <td>6738.692400</td>\n      <td>6738.692400</td>\n      <td>6746.759190</td>\n      <td>6738.770340</td>\n    </tr>\n    <tr>\n      <th>max</th>\n      <td>8841.669480</td>\n      <td>8841.669480</td>\n      <td>8841.669480</td>\n      <td>8841.669480</td>\n      <td>8841.669480</td>\n    </tr>\n  </tbody>\n</table>\n</div>",
            "text/plain": "               T-1          T-2          T-3         T-24            T\ncount  2160.000000  2160.000000  2160.000000  2160.000000  2160.000000\nmean   6027.633628  6028.189095  6029.018795  6036.917148  6028.298499\nstd    1068.188422  1068.043922  1067.726081  1066.466517  1068.308193\nmin    3377.919600  3377.919600  3377.919600  3377.919600  3377.919600\n25%    5260.014720  5260.014720  5260.014720  5263.054380  5260.014720\n50%    5933.104560  5934.663360  5935.910400  5949.939600  5934.663360\n75%    6738.692400  6738.692400  6738.692400  6746.759190  6738.770340\nmax    8841.669480  8841.669480  8841.669480  8841.669480  8841.669480"
          },
          "metadata": {}
        }
      ]
    },
    {
      "metadata": {
        "trusted": true
      },
      "cell_type": "code",
      "source": "#check Boxplot\npd.DataFrame.boxplot(dataset,grid=False,vert=False)",
      "execution_count": 12,
      "outputs": [
        {
          "output_type": "execute_result",
          "execution_count": 12,
          "data": {
            "text/plain": "<matplotlib.axes._subplots.AxesSubplot at 0x7fc22cba4e80>"
          },
          "metadata": {}
        },
        {
          "output_type": "display_data",
          "data": {
            "image/png": "[encoded data removed]",
            "text/plain": "<Figure size 432x288 with 1 Axes>"
          },
          "metadata": {
            "needs_background": "light"
          }
        }
      ]
    },
    {
      "metadata": {
        "trusted": true
      },
      "cell_type": "code",
      "source": "dataset.isnull().any()",
      "execution_count": 13,
      "outputs": [
        {
          "output_type": "execute_result",
          "execution_count": 13,
          "data": {
            "text/plain": "T-1     False\nT-2     False\nT-3     False\nT-24    False\nT       False\ndtype: bool"
          },
          "metadata": {}
        }
      ]
    },
    {
      "metadata": {
        "trusted": true
      },
      "cell_type": "code",
      "source": "z = np.abs(stats.zscore(dataset))\nthreshold = 3\nprint(np.where(z > 3))",
      "execution_count": 11,
      "outputs": [
        {
          "output_type": "stream",
          "text": "(array([], dtype=int64), array([], dtype=int64))\n",
          "name": "stdout"
        }
      ]
    },
    {
      "metadata": {
        "trusted": true
      },
      "cell_type": "code",
      "source": "print(np.where(z < -3))",
      "execution_count": 12,
      "outputs": [
        {
          "output_type": "stream",
          "text": "(array([], dtype=int64), array([], dtype=int64))\n",
          "name": "stdout"
        }
      ]
    },
    {
      "metadata": {
        "trusted": true
      },
      "cell_type": "code",
      "source": "msng.matrix(dataset)",
      "execution_count": 14,
      "outputs": [
        {
          "output_type": "execute_result",
          "execution_count": 14,
          "data": {
            "text/plain": "<matplotlib.axes._subplots.AxesSubplot at 0x7f5bedeeaef0>"
          },
          "metadata": {}
        },
        {
          "output_type": "display_data",
          "data": {
            "image/png": "[encoded data removed]",
            "text/plain": "<Figure size 1800x720 with 2 Axes>"
          },
          "metadata": {
            "needs_background": "light"
          }
        }
      ]
    },
    {
      "metadata": {
        "trusted": true
      },
      "cell_type": "code",
      "source": "msng.bar(dataset)",
      "execution_count": 16,
      "outputs": [
        {
          "output_type": "execute_result",
          "execution_count": 16,
          "data": {
            "text/plain": "<matplotlib.axes._subplots.AxesSubplot at 0x7f5bede62ef0>"
          },
          "metadata": {}
        },
        {
          "output_type": "display_data",
          "data": {
            "image/png": "[encoded data removed]",
            "text/plain": "<Figure size 1728x720 with 3 Axes>"
          },
          "metadata": {
            "needs_background": "light"
          }
        }
      ]
    },
    {
      "metadata": {
        "trusted": true
      },
      "cell_type": "code",
      "source": "pd.DataFrame.hist(dataset,grid=False)",
      "execution_count": 14,
      "outputs": [
        {
          "output_type": "execute_result",
          "execution_count": 14,
          "data": {
            "text/plain": "array([[<matplotlib.axes._subplots.AxesSubplot object at 0x7fc22cadf208>,\n        <matplotlib.axes._subplots.AxesSubplot object at 0x7fc22c7cf2b0>],\n       [<matplotlib.axes._subplots.AxesSubplot object at 0x7fc22c7f6828>,\n        <matplotlib.axes._subplots.AxesSubplot object at 0x7fc22c79eda0>],\n       [<matplotlib.axes._subplots.AxesSubplot object at 0x7fc22c751358>,\n        <matplotlib.axes._subplots.AxesSubplot object at 0x7fc22c778898>]],\n      dtype=object)"
          },
          "metadata": {}
        },
        {
          "output_type": "display_data",
          "data": {
            "image/png": "[encoded data removed]",
            "text/plain": "<Figure size 432x288 with 6 Axes>"
          },
          "metadata": {
            "needs_background": "light"
          }
        }
      ]
    },
    {
      "metadata": {
        "trusted": true
      },
      "cell_type": "code",
      "source": "corr= dataset.corr()\ncorr",
      "execution_count": 15,
      "outputs": [
        {
          "output_type": "execute_result",
          "execution_count": 15,
          "data": {
            "text/html": "<div>\n<style scoped>\n    .dataframe tbody tr th:only-of-type {\n        vertical-align: middle;\n    }\n\n    .dataframe tbody tr th {\n        vertical-align: top;\n    }\n\n    .dataframe thead th {\n        text-align: right;\n    }\n</style>\n<table border=\"1\" class=\"dataframe\">\n  <thead>\n    <tr style=\"text-align: right;\">\n      <th></th>\n      <th>T-1</th>\n      <th>T-2</th>\n      <th>T-3</th>\n      <th>T-24</th>\n      <th>T</th>\n    </tr>\n  </thead>\n  <tbody>\n    <tr>\n      <th>T-1</th>\n      <td>1.000000</td>\n      <td>0.783398</td>\n      <td>0.547211</td>\n      <td>0.660699</td>\n      <td>0.782949</td>\n    </tr>\n    <tr>\n      <th>T-2</th>\n      <td>0.783398</td>\n      <td>1.000000</td>\n      <td>0.783336</td>\n      <td>0.472053</td>\n      <td>0.546609</td>\n    </tr>\n    <tr>\n      <th>T-3</th>\n      <td>0.547211</td>\n      <td>0.783336</td>\n      <td>1.000000</td>\n      <td>0.256744</td>\n      <td>0.286810</td>\n    </tr>\n    <tr>\n      <th>T-24</th>\n      <td>0.660699</td>\n      <td>0.472053</td>\n      <td>0.256744</td>\n      <td>1.000000</td>\n      <td>0.741813</td>\n    </tr>\n    <tr>\n      <th>T</th>\n      <td>0.782949</td>\n      <td>0.546609</td>\n      <td>0.286810</td>\n      <td>0.741813</td>\n      <td>1.000000</td>\n    </tr>\n  </tbody>\n</table>\n</div>",
            "text/plain": "           T-1       T-2       T-3      T-24         T\nT-1   1.000000  0.783398  0.547211  0.660699  0.782949\nT-2   0.783398  1.000000  0.783336  0.472053  0.546609\nT-3   0.547211  0.783336  1.000000  0.256744  0.286810\nT-24  0.660699  0.472053  0.256744  1.000000  0.741813\nT     0.782949  0.546609  0.286810  0.741813  1.000000"
          },
          "metadata": {}
        }
      ]
    },
    {
      "metadata": {
        "trusted": true
      },
      "cell_type": "code",
      "source": "dataset.drop([\"T-2\", \"T-3\"], axis = 1, inplace = True)  ",
      "execution_count": 46,
      "outputs": []
    },
    {
      "metadata": {
        "trusted": true
      },
      "cell_type": "code",
      "source": "dataset.head()",
      "execution_count": 47,
      "outputs": [
        {
          "output_type": "execute_result",
          "execution_count": 47,
          "data": {
            "text/html": "<div>\n<style scoped>\n    .dataframe tbody tr th:only-of-type {\n        vertical-align: middle;\n    }\n\n    .dataframe tbody tr th {\n        vertical-align: top;\n    }\n\n    .dataframe thead th {\n        text-align: right;\n    }\n</style>\n<table border=\"1\" class=\"dataframe\">\n  <thead>\n    <tr style=\"text-align: right;\">\n      <th></th>\n      <th>T-1</th>\n      <th>T-24</th>\n      <th>T</th>\n    </tr>\n  </thead>\n  <tbody>\n    <tr>\n      <th>0</th>\n      <td>5502.25224</td>\n      <td>5551.82208</td>\n      <td>4931.26380</td>\n    </tr>\n    <tr>\n      <th>1</th>\n      <td>4931.26380</td>\n      <td>4983.17184</td>\n      <td>4775.53968</td>\n    </tr>\n    <tr>\n      <th>2</th>\n      <td>4775.53968</td>\n      <td>4888.39680</td>\n      <td>4713.81120</td>\n    </tr>\n    <tr>\n      <th>3</th>\n      <td>4713.81120</td>\n      <td>5072.95872</td>\n      <td>4689.02628</td>\n    </tr>\n    <tr>\n      <th>4</th>\n      <td>4689.02628</td>\n      <td>5196.25980</td>\n      <td>4844.75040</td>\n    </tr>\n  </tbody>\n</table>\n</div>",
            "text/plain": "          T-1        T-24           T\n0  5502.25224  5551.82208  4931.26380\n1  4931.26380  4983.17184  4775.53968\n2  4775.53968  4888.39680  4713.81120\n3  4713.81120  5072.95872  4689.02628\n4  4689.02628  5196.25980  4844.75040"
          },
          "metadata": {}
        }
      ]
    },
    {
      "metadata": {
        "trusted": true
      },
      "cell_type": "code",
      "source": "corr= dataset.corr()\ncorr",
      "execution_count": 48,
      "outputs": [
        {
          "output_type": "execute_result",
          "execution_count": 48,
          "data": {
            "text/html": "<div>\n<style scoped>\n    .dataframe tbody tr th:only-of-type {\n        vertical-align: middle;\n    }\n\n    .dataframe tbody tr th {\n        vertical-align: top;\n    }\n\n    .dataframe thead th {\n        text-align: right;\n    }\n</style>\n<table border=\"1\" class=\"dataframe\">\n  <thead>\n    <tr style=\"text-align: right;\">\n      <th></th>\n      <th>T-1</th>\n      <th>T-24</th>\n      <th>T</th>\n    </tr>\n  </thead>\n  <tbody>\n    <tr>\n      <th>T-1</th>\n      <td>1.000000</td>\n      <td>0.660699</td>\n      <td>0.782949</td>\n    </tr>\n    <tr>\n      <th>T-24</th>\n      <td>0.660699</td>\n      <td>1.000000</td>\n      <td>0.741813</td>\n    </tr>\n    <tr>\n      <th>T</th>\n      <td>0.782949</td>\n      <td>0.741813</td>\n      <td>1.000000</td>\n    </tr>\n  </tbody>\n</table>\n</div>",
            "text/plain": "           T-1      T-24         T\nT-1   1.000000  0.660699  0.782949\nT-24  0.660699  1.000000  0.741813\nT     0.782949  0.741813  1.000000"
          },
          "metadata": {}
        }
      ]
    },
    {
      "metadata": {
        "trusted": true
      },
      "cell_type": "code",
      "source": "output_min=dataset.min()\noutput_max=dataset.max()\n\nprint(output_min)\nprint(output_max)",
      "execution_count": 16,
      "outputs": [
        {
          "output_type": "stream",
          "text": "T-1     3377.9196\nT-2     3377.9196\nT-3     3377.9196\nT-24    3377.9196\nT       3377.9196\ndtype: float64\nT-1     8841.66948\nT-2     8841.66948\nT-3     8841.66948\nT-24    8841.66948\nT       8841.66948\ndtype: float64\n",
          "name": "stdout"
        }
      ]
    },
    {
      "metadata": {
        "trusted": true
      },
      "cell_type": "code",
      "source": "from sklearn.preprocessing import MinMaxScaler\nms=MinMaxScaler()\nload_data=ms.fit_transform(dataset)\nprint(load_data)",
      "execution_count": 17,
      "outputs": [
        {
          "output_type": "stream",
          "text": "[[0.38880488 0.54397877 0.57430601 0.39787738 0.28430002]\n [0.28430002 0.38880488 0.54397877 0.29380046 0.25579869]\n [0.25579869 0.28430002 0.38880488 0.27645431 0.24450087]\n ...\n [0.21779692 0.22852415 0.3052124  0.68414596 0.24629825]\n [0.24629825 0.21779692 0.22852415 0.51467861 0.32438447]\n [0.32438447 0.24629825 0.21779692 0.41730621 0.65165045]]\n",
          "name": "stdout"
        }
      ]
    },
    {
      "metadata": {
        "trusted": true
      },
      "cell_type": "code",
      "source": "dataset=pd.DataFrame(data=load_data[0:,0:]) \nprint(dataset[0].values)",
      "execution_count": 18,
      "outputs": [
        {
          "output_type": "stream",
          "text": "[0.38880488 0.28430002 0.25579869 ... 0.21779692 0.24629825 0.32438447]\n",
          "name": "stdout"
        }
      ]
    },
    {
      "metadata": {
        "trusted": true
      },
      "cell_type": "code",
      "source": "X=dataset.iloc[:,0:4].values\nY=dataset.iloc[:,4:].values\nprint(Y)",
      "execution_count": 20,
      "outputs": [
        {
          "output_type": "stream",
          "text": "[[0.28430002]\n [0.25579869]\n [0.24450087]\n ...\n [0.24629825]\n [0.32438447]\n [0.65165045]]\n",
          "name": "stdout"
        }
      ]
    },
    {
      "metadata": {
        "trusted": true
      },
      "cell_type": "code",
      "source": "from sklearn.model_selection import train_test_split\nX_train, X_test, y_train, y_test = train_test_split(X, Y, test_size=0.2, random_state=None)",
      "execution_count": 21,
      "outputs": []
    },
    {
      "metadata": {
        "trusted": true
      },
      "cell_type": "code",
      "source": "from sklearn.linear_model import LinearRegression\nregressor = LinearRegression()\nregressor.fit(X_train,y_train) # Train the linear regression model",
      "execution_count": 22,
      "outputs": [
        {
          "output_type": "execute_result",
          "execution_count": 22,
          "data": {
            "text/plain": "LinearRegression(copy_X=True, fit_intercept=True, n_jobs=None, normalize=False)"
          },
          "metadata": {}
        }
      ]
    },
    {
      "metadata": {
        "trusted": true
      },
      "cell_type": "code",
      "source": "coeff_df = pd.DataFrame(regressor.coef_)  \ncoeff_df",
      "execution_count": 23,
      "outputs": [
        {
          "output_type": "execute_result",
          "execution_count": 23,
          "data": {
            "text/html": "<div>\n<style scoped>\n    .dataframe tbody tr th:only-of-type {\n        vertical-align: middle;\n    }\n\n    .dataframe tbody tr th {\n        vertical-align: top;\n    }\n\n    .dataframe thead th {\n        text-align: right;\n    }\n</style>\n<table border=\"1\" class=\"dataframe\">\n  <thead>\n    <tr style=\"text-align: right;\">\n      <th></th>\n      <th>0</th>\n      <th>1</th>\n      <th>2</th>\n      <th>3</th>\n    </tr>\n  </thead>\n  <tbody>\n    <tr>\n      <th>0</th>\n      <td>0.613483</td>\n      <td>-0.002561</td>\n      <td>-0.134731</td>\n      <td>0.381256</td>\n    </tr>\n  </tbody>\n</table>\n</div>",
            "text/plain": "          0         1         2         3\n0  0.613483 -0.002561 -0.134731  0.381256"
          },
          "metadata": {}
        }
      ]
    },
    {
      "metadata": {
        "trusted": true
      },
      "cell_type": "code",
      "source": "print(X_train[2])",
      "execution_count": 34,
      "outputs": [
        {
          "output_type": "stream",
          "text": "[0.50914382 0.37930444 0.30840775 0.58372086]\n",
          "name": "stdout"
        }
      ]
    },
    {
      "metadata": {
        "trusted": true
      },
      "cell_type": "code",
      "source": "y_pred = regressor.predict(X_test)\nprint(y_pred[2]*(output_max[0]-output_min[0])+output_min[0])\nprint(y_test[2]*(output_max[0]-output_min[0])+output_min[0])\n",
      "execution_count": 42,
      "outputs": [
        {
          "output_type": "stream",
          "text": "[5127.76703714]\n[5052.38256]\n",
          "name": "stdout"
        }
      ]
    },
    {
      "metadata": {
        "trusted": true
      },
      "cell_type": "code",
      "source": "from sklearn import metrics\nprint('Mean Absolute Error:', metrics.mean_absolute_error(y_test, y_pred))  \nprint('Mean Squared Error:', metrics.mean_squared_error(y_test, y_pred))  \nprint('Root Mean Squared Error:', np.sqrt(metrics.mean_squared_error(y_test, y_pred)))",
      "execution_count": 43,
      "outputs": [
        {
          "output_type": "stream",
          "text": "Mean Absolute Error: 0.07401847160724853\nMean Squared Error: 0.011734588078881406\nRoot Mean Squared Error: 0.10832630372574062\n",
          "name": "stdout"
        }
      ]
    },
    {
      "metadata": {},
      "cell_type": "markdown",
      "source": "# Dimentionality Reduction"
    },
    {
      "metadata": {
        "trusted": true
      },
      "cell_type": "code",
      "source": "dataset=pd.read_csv(\"loaddata_multiple_regression.csv\")\ndataset.head(2)",
      "execution_count": 45,
      "outputs": [
        {
          "output_type": "execute_result",
          "execution_count": 45,
          "data": {
            "text/html": "<div>\n<style scoped>\n    .dataframe tbody tr th:only-of-type {\n        vertical-align: middle;\n    }\n\n    .dataframe tbody tr th {\n        vertical-align: top;\n    }\n\n    .dataframe thead th {\n        text-align: right;\n    }\n</style>\n<table border=\"1\" class=\"dataframe\">\n  <thead>\n    <tr style=\"text-align: right;\">\n      <th></th>\n      <th>T-1</th>\n      <th>T-2</th>\n      <th>T-3</th>\n      <th>T-24</th>\n      <th>T</th>\n    </tr>\n  </thead>\n  <tbody>\n    <tr>\n      <th>0</th>\n      <td>5502.25224</td>\n      <td>6350.08356</td>\n      <td>6515.78400</td>\n      <td>5551.82208</td>\n      <td>4931.26380</td>\n    </tr>\n    <tr>\n      <th>1</th>\n      <td>4931.26380</td>\n      <td>5502.25224</td>\n      <td>6350.08356</td>\n      <td>4983.17184</td>\n      <td>4775.53968</td>\n    </tr>\n  </tbody>\n</table>\n</div>",
            "text/plain": "          T-1         T-2         T-3        T-24           T\n0  5502.25224  6350.08356  6515.78400  5551.82208  4931.26380\n1  4931.26380  5502.25224  6350.08356  4983.17184  4775.53968"
          },
          "metadata": {}
        }
      ]
    },
    {
      "metadata": {
        "trusted": true
      },
      "cell_type": "code",
      "source": "corr= dataset.corr()\ncorr",
      "execution_count": 46,
      "outputs": [
        {
          "output_type": "execute_result",
          "execution_count": 46,
          "data": {
            "text/html": "<div>\n<style scoped>\n    .dataframe tbody tr th:only-of-type {\n        vertical-align: middle;\n    }\n\n    .dataframe tbody tr th {\n        vertical-align: top;\n    }\n\n    .dataframe thead th {\n        text-align: right;\n    }\n</style>\n<table border=\"1\" class=\"dataframe\">\n  <thead>\n    <tr style=\"text-align: right;\">\n      <th></th>\n      <th>T-1</th>\n      <th>T-2</th>\n      <th>T-3</th>\n      <th>T-24</th>\n      <th>T</th>\n    </tr>\n  </thead>\n  <tbody>\n    <tr>\n      <th>T-1</th>\n      <td>1.000000</td>\n      <td>0.783398</td>\n      <td>0.547211</td>\n      <td>0.660699</td>\n      <td>0.782949</td>\n    </tr>\n    <tr>\n      <th>T-2</th>\n      <td>0.783398</td>\n      <td>1.000000</td>\n      <td>0.783336</td>\n      <td>0.472053</td>\n      <td>0.546609</td>\n    </tr>\n    <tr>\n      <th>T-3</th>\n      <td>0.547211</td>\n      <td>0.783336</td>\n      <td>1.000000</td>\n      <td>0.256744</td>\n      <td>0.286810</td>\n    </tr>\n    <tr>\n      <th>T-24</th>\n      <td>0.660699</td>\n      <td>0.472053</td>\n      <td>0.256744</td>\n      <td>1.000000</td>\n      <td>0.741813</td>\n    </tr>\n    <tr>\n      <th>T</th>\n      <td>0.782949</td>\n      <td>0.546609</td>\n      <td>0.286810</td>\n      <td>0.741813</td>\n      <td>1.000000</td>\n    </tr>\n  </tbody>\n</table>\n</div>",
            "text/plain": "           T-1       T-2       T-3      T-24         T\nT-1   1.000000  0.783398  0.547211  0.660699  0.782949\nT-2   0.783398  1.000000  0.783336  0.472053  0.546609\nT-3   0.547211  0.783336  1.000000  0.256744  0.286810\nT-24  0.660699  0.472053  0.256744  1.000000  0.741813\nT     0.782949  0.546609  0.286810  0.741813  1.000000"
          },
          "metadata": {}
        }
      ]
    },
    {
      "metadata": {
        "trusted": true
      },
      "cell_type": "code",
      "source": "dataset.drop([\"T-2\"], axis = 1, inplace = True)  ",
      "execution_count": 47,
      "outputs": []
    },
    {
      "metadata": {
        "trusted": true
      },
      "cell_type": "code",
      "source": "dataset.head()",
      "execution_count": 48,
      "outputs": [
        {
          "output_type": "execute_result",
          "execution_count": 48,
          "data": {
            "text/html": "<div>\n<style scoped>\n    .dataframe tbody tr th:only-of-type {\n        vertical-align: middle;\n    }\n\n    .dataframe tbody tr th {\n        vertical-align: top;\n    }\n\n    .dataframe thead th {\n        text-align: right;\n    }\n</style>\n<table border=\"1\" class=\"dataframe\">\n  <thead>\n    <tr style=\"text-align: right;\">\n      <th></th>\n      <th>T-1</th>\n      <th>T-3</th>\n      <th>T-24</th>\n      <th>T</th>\n    </tr>\n  </thead>\n  <tbody>\n    <tr>\n      <th>0</th>\n      <td>5502.25224</td>\n      <td>6515.78400</td>\n      <td>5551.82208</td>\n      <td>4931.26380</td>\n    </tr>\n    <tr>\n      <th>1</th>\n      <td>4931.26380</td>\n      <td>6350.08356</td>\n      <td>4983.17184</td>\n      <td>4775.53968</td>\n    </tr>\n    <tr>\n      <th>2</th>\n      <td>4775.53968</td>\n      <td>5502.25224</td>\n      <td>4888.39680</td>\n      <td>4713.81120</td>\n    </tr>\n    <tr>\n      <th>3</th>\n      <td>4713.81120</td>\n      <td>4931.26380</td>\n      <td>5072.95872</td>\n      <td>4689.02628</td>\n    </tr>\n    <tr>\n      <th>4</th>\n      <td>4689.02628</td>\n      <td>4775.53968</td>\n      <td>5196.25980</td>\n      <td>4844.75040</td>\n    </tr>\n  </tbody>\n</table>\n</div>",
            "text/plain": "          T-1         T-3        T-24           T\n0  5502.25224  6515.78400  5551.82208  4931.26380\n1  4931.26380  6350.08356  4983.17184  4775.53968\n2  4775.53968  5502.25224  4888.39680  4713.81120\n3  4713.81120  4931.26380  5072.95872  4689.02628\n4  4689.02628  4775.53968  5196.25980  4844.75040"
          },
          "metadata": {}
        }
      ]
    },
    {
      "metadata": {
        "trusted": true
      },
      "cell_type": "code",
      "source": "from sklearn.preprocessing import MinMaxScaler\nms=MinMaxScaler()\nload_data=ms.fit_transform(dataset)\nprint(load_data)",
      "execution_count": 49,
      "outputs": [
        {
          "output_type": "stream",
          "text": "[[0.38880488 0.57430601 0.39787738 0.28430002]\n [0.28430002 0.54397877 0.29380046 0.25579869]\n [0.25579869 0.38880488 0.27645431 0.24450087]\n ...\n [0.21779692 0.3052124  0.68414596 0.24629825]\n [0.24629825 0.22852415 0.51467861 0.32438447]\n [0.32438447 0.21779692 0.41730621 0.65165045]]\n",
          "name": "stdout"
        }
      ]
    },
    {
      "metadata": {
        "trusted": true
      },
      "cell_type": "code",
      "source": "dataset=pd.DataFrame(data=load_data[0:,0:]) \nprint(dataset[0].values)",
      "execution_count": 50,
      "outputs": [
        {
          "output_type": "stream",
          "text": "[0.38880488 0.28430002 0.25579869 ... 0.21779692 0.24629825 0.32438447]\n",
          "name": "stdout"
        }
      ]
    },
    {
      "metadata": {
        "trusted": true
      },
      "cell_type": "code",
      "source": "X=dataset.iloc[:,0:3].values\nY=dataset.iloc[:,3:].values\nprint(X)",
      "execution_count": 52,
      "outputs": [
        {
          "output_type": "stream",
          "text": "[[0.38880488 0.57430601 0.39787738]\n [0.28430002 0.54397877 0.29380046]\n [0.25579869 0.38880488 0.27645431]\n ...\n [0.21779692 0.3052124  0.68414596]\n [0.24629825 0.22852415 0.51467861]\n [0.32438447 0.21779692 0.41730621]]\n",
          "name": "stdout"
        }
      ]
    },
    {
      "metadata": {
        "trusted": true
      },
      "cell_type": "code",
      "source": "from sklearn.model_selection import train_test_split\nX_train, X_test, y_train, y_test = train_test_split(X, Y, test_size=0.2, random_state=None)",
      "execution_count": 53,
      "outputs": []
    },
    {
      "metadata": {
        "trusted": true
      },
      "cell_type": "code",
      "source": "from sklearn.linear_model import LinearRegression\nregressor = LinearRegression()\nregressor.fit(X_train,y_train) # Train the linear regression model",
      "execution_count": 54,
      "outputs": [
        {
          "output_type": "execute_result",
          "execution_count": 54,
          "data": {
            "text/plain": "LinearRegression(copy_X=True, fit_intercept=True, n_jobs=None, normalize=False)"
          },
          "metadata": {}
        }
      ]
    },
    {
      "metadata": {
        "trusted": true
      },
      "cell_type": "code",
      "source": "coeff_df = pd.DataFrame(regressor.coef_)  \ncoeff_df",
      "execution_count": 55,
      "outputs": [
        {
          "output_type": "execute_result",
          "execution_count": 55,
          "data": {
            "text/html": "<div>\n<style scoped>\n    .dataframe tbody tr th:only-of-type {\n        vertical-align: middle;\n    }\n\n    .dataframe tbody tr th {\n        vertical-align: top;\n    }\n\n    .dataframe thead th {\n        text-align: right;\n    }\n</style>\n<table border=\"1\" class=\"dataframe\">\n  <thead>\n    <tr style=\"text-align: right;\">\n      <th></th>\n      <th>0</th>\n      <th>1</th>\n      <th>2</th>\n    </tr>\n  </thead>\n  <tbody>\n    <tr>\n      <th>0</th>\n      <td>0.607104</td>\n      <td>-0.148058</td>\n      <td>0.401526</td>\n    </tr>\n  </tbody>\n</table>\n</div>",
            "text/plain": "          0         1         2\n0  0.607104 -0.148058  0.401526"
          },
          "metadata": {}
        }
      ]
    },
    {
      "metadata": {
        "trusted": true
      },
      "cell_type": "code",
      "source": "y_pred = regressor.predict(X_test)\nprint(y_pred[2]*(output_max[0]-output_min[0])+output_min[0])\nprint(y_test[2]*(output_max[0]-output_min[0])+output_min[0])",
      "execution_count": 56,
      "outputs": [
        {
          "output_type": "stream",
          "text": "[5279.64467555]\n[4993.45992]\n",
          "name": "stdout"
        }
      ]
    },
    {
      "metadata": {
        "trusted": true
      },
      "cell_type": "code",
      "source": "from sklearn import metrics\nprint('Mean Absolute Error:', metrics.mean_absolute_error(y_test, y_pred))  \nprint('Mean Squared Error:', metrics.mean_squared_error(y_test, y_pred))  \nprint('Root Mean Squared Error:', np.sqrt(metrics.mean_squared_error(y_test, y_pred)))",
      "execution_count": 57,
      "outputs": [
        {
          "output_type": "stream",
          "text": "Mean Absolute Error: 0.07577524900837894\nMean Squared Error: 0.01186247573931024\nRoot Mean Squared Error: 0.10891499317959048\n",
          "name": "stdout"
        }
      ]
    }
  ],
  "metadata": {
    "kernelspec": {
      "name": "python36",
      "display_name": "Python 3.6",
      "language": "python"
    },
    "language_info": {
      "mimetype": "text/x-python",
      "nbconvert_exporter": "python",
      "name": "python",
      "pygments_lexer": "ipython3",
      "version": "3.6.6",
      "file_extension": ".py",
      "codemirror_mode": {
        "version": 3,
        "name": "ipython"
      }
    }
  },
  "nbformat": 4,
  "nbformat_minor": 2
}